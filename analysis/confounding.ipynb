{
 "cells": [
  {
   "cell_type": "code",
   "execution_count": 10,
   "id": "3a599a89-68c7-4baf-b1aa-085f0070ef89",
   "metadata": {},
   "outputs": [],
   "source": [
    "import pandas as pd\n",
    "import geopandas as geopd\n",
    "import matplotlib.pyplot as plt\n",
    "import seaborn as sns\n",
    "from scipy import stats\n",
    "pd.set_option('display.max_columns', None)\n",
    "import ipynb\n",
    "%run helper.ipynb\n",
    "%run domain_helper.ipynb"
   ]
  },
  {
   "cell_type": "code",
   "execution_count": 11,
   "id": "0d378222-8e6c-4874-918f-d96481271dd3",
   "metadata": {},
   "outputs": [],
   "source": [
    "dfb = pd.read_csv('../dataset/Mexico/bc_data/BDmortalidadCAMAbase.csv')\n",
    "dfb = process_df(dfb,2)"
   ]
  },
  {
   "cell_type": "code",
   "execution_count": 12,
   "id": "53e0dd4d-0825-42de-aae8-7d3848129915",
   "metadata": {},
   "outputs": [],
   "source": [
    "dfb['year'] = dfb['year_of_occurrence']\n",
    "dfb['age_group'] = dfb['age_group'].apply(update_age_group)\n",
    "dfb = dfb[ (dfb['population']>0) & (dfb['year']>2008) ]"
   ]
  },
  {
   "cell_type": "code",
   "execution_count": 13,
   "id": "f7238bd7-c27b-44f7-92b6-56a1271054f5",
   "metadata": {},
   "outputs": [],
   "source": [
    "dfb['ndeaths'] = 1\n",
    "dfb2 = dfb.groupby(['state_code','municipality_code','age_group','year','location_type']).agg({\n",
    "    'ndeaths': 'sum',\n",
    "}).reset_index()"
   ]
  },
  {
   "cell_type": "code",
   "execution_count": 14,
   "id": "9dc4c418-d408-4aea-ab24-6c4ee113e2ba",
   "metadata": {},
   "outputs": [
    {
     "data": {
      "text/html": [
       "<div>\n",
       "<style scoped>\n",
       "    .dataframe tbody tr th:only-of-type {\n",
       "        vertical-align: middle;\n",
       "    }\n",
       "\n",
       "    .dataframe tbody tr th {\n",
       "        vertical-align: top;\n",
       "    }\n",
       "\n",
       "    .dataframe thead th {\n",
       "        text-align: right;\n",
       "    }\n",
       "</style>\n",
       "<table border=\"1\" class=\"dataframe\">\n",
       "  <thead>\n",
       "    <tr style=\"text-align: right;\">\n",
       "      <th></th>\n",
       "      <th>Quantile_0.0</th>\n",
       "      <th>Quantile_10.0</th>\n",
       "      <th>Quantile_20.0</th>\n",
       "      <th>Quantile_30.0</th>\n",
       "      <th>Quantile_40.0</th>\n",
       "      <th>Quantile_50.0</th>\n",
       "      <th>Quantile_60.0</th>\n",
       "      <th>Quantile_70.0</th>\n",
       "      <th>Quantile_80.0</th>\n",
       "      <th>Quantile_90.0</th>\n",
       "      <th>Quantile_100.0</th>\n",
       "    </tr>\n",
       "    <tr>\n",
       "      <th>count_buckets</th>\n",
       "      <th></th>\n",
       "      <th></th>\n",
       "      <th></th>\n",
       "      <th></th>\n",
       "      <th></th>\n",
       "      <th></th>\n",
       "      <th></th>\n",
       "      <th></th>\n",
       "      <th></th>\n",
       "      <th></th>\n",
       "      <th></th>\n",
       "    </tr>\n",
       "  </thead>\n",
       "  <tbody>\n",
       "    <tr>\n",
       "      <th>1</th>\n",
       "      <td>1.0</td>\n",
       "      <td>133.0</td>\n",
       "      <td>329.0</td>\n",
       "      <td>737.0</td>\n",
       "      <td>1734.2</td>\n",
       "      <td>3934.0</td>\n",
       "      <td>7522.0</td>\n",
       "      <td>12065.2</td>\n",
       "      <td>18226.0</td>\n",
       "      <td>29529.0</td>\n",
       "      <td>82205.0</td>\n",
       "    </tr>\n",
       "  </tbody>\n",
       "</table>\n",
       "</div>"
      ],
      "text/plain": [
       "               Quantile_0.0  Quantile_10.0  Quantile_20.0  Quantile_30.0  \\\n",
       "count_buckets                                                              \n",
       "1                       1.0          133.0          329.0          737.0   \n",
       "\n",
       "               Quantile_40.0  Quantile_50.0  Quantile_60.0  Quantile_70.0  \\\n",
       "count_buckets                                                               \n",
       "1                     1734.2         3934.0         7522.0        12065.2   \n",
       "\n",
       "               Quantile_80.0  Quantile_90.0  Quantile_100.0  \n",
       "count_buckets                                                \n",
       "1                    18226.0        29529.0         82205.0  "
      ]
     },
     "metadata": {},
     "output_type": "display_data"
    }
   ],
   "source": [
    "%run domain_helper.ipynb\n",
    "df = pd.merge(dfb, dfb2, on=['state_code','municipality_code','age_group','year','location_type'])\n",
    "df['count'] = 1\n",
    "display(quantl(df, 'count', 'population'))\n",
    "df = crude_mortality(df)\n",
    "df = standard_mortality(df, [], [])\n",
    "df = standard_mortality(df, [], ['state_code','municipality_code'])\n",
    "df = standard_mortality(df, [], ['state_code','municipality_code','year'])\n",
    "df = standard_mortality(df, ['age_group'], [])\n",
    "df = standard_mortality(df, ['age_group'], ['year'])\n",
    "df = standard_mortality(df, ['age_group'], ['state_code','municipality_code'])\n",
    "df = standard_mortality(df, ['location_type'], ['state_code','municipality_code'])\n",
    "df = standard_mortality(df, ['location_type'], [])\n",
    "df = standard_mortality(df, ['location_type'], ['year'])\n",
    "df = standard_mortality(df, ['age_group', 'location_type'], [])\n",
    "df = standard_mortality(df, ['age_group', 'location_type'], ['year'])\n",
    "df = standard_mortality(df, ['age_group', 'location_type'], ['state_code','municipality_code'])\n",
    "# display(df.tail(50))"
   ]
  },
  {
   "cell_type": "code",
   "execution_count": 15,
   "id": "2ff672db-52e9-4fb6-8f0c-a37115bd72bf",
   "metadata": {},
   "outputs": [
    {
     "data": {
      "text/plain": [
       "(87269, 45)"
      ]
     },
     "metadata": {},
     "output_type": "display_data"
    },
    {
     "data": {
      "text/plain": [
       "(87269, 28)"
      ]
     },
     "metadata": {},
     "output_type": "display_data"
    },
    {
     "data": {
      "text/plain": [
       "(45743, 6)"
      ]
     },
     "metadata": {},
     "output_type": "display_data"
    }
   ],
   "source": [
    "display(df.shape)\n",
    "display(dfb.shape)\n",
    "display(dfb2.shape)"
   ]
  },
  {
   "cell_type": "code",
   "execution_count": 23,
   "id": "4994d283-1b5b-48d7-8faa-27324f37eb81",
   "metadata": {},
   "outputs": [
    {
     "data": {
      "text/plain": [
       "'Testing SMR across yaers'"
      ]
     },
     "metadata": {},
     "output_type": "display_data"
    },
    {
     "data": {
      "text/html": [
       "<div>\n",
       "<style scoped>\n",
       "    .dataframe tbody tr th:only-of-type {\n",
       "        vertical-align: middle;\n",
       "    }\n",
       "\n",
       "    .dataframe tbody tr th {\n",
       "        vertical-align: top;\n",
       "    }\n",
       "\n",
       "    .dataframe thead th {\n",
       "        text-align: right;\n",
       "    }\n",
       "</style>\n",
       "<table border=\"1\" class=\"dataframe\">\n",
       "  <thead>\n",
       "    <tr style=\"text-align: right;\">\n",
       "      <th></th>\n",
       "      <th>col1</th>\n",
       "      <th>col2</th>\n",
       "      <th>t_statistic</th>\n",
       "      <th>p_value</th>\n",
       "      <th>effect_size</th>\n",
       "    </tr>\n",
       "  </thead>\n",
       "  <tbody>\n",
       "    <tr>\n",
       "      <th>0</th>\n",
       "      <td>smr_crude</td>\n",
       "      <td>smr_age_group</td>\n",
       "      <td>-1.050305</td>\n",
       "      <td>0.312711</td>\n",
       "      <td>-0.280706</td>\n",
       "    </tr>\n",
       "    <tr>\n",
       "      <th>1</th>\n",
       "      <td>smr_crude</td>\n",
       "      <td>smr_location_type</td>\n",
       "      <td>0.141560</td>\n",
       "      <td>0.889598</td>\n",
       "      <td>0.037834</td>\n",
       "    </tr>\n",
       "    <tr>\n",
       "      <th>2</th>\n",
       "      <td>smr_crude</td>\n",
       "      <td>smr_age_group_location_type</td>\n",
       "      <td>-1.027280</td>\n",
       "      <td>0.323024</td>\n",
       "      <td>-0.274552</td>\n",
       "    </tr>\n",
       "    <tr>\n",
       "      <th>3</th>\n",
       "      <td>smr_age_group</td>\n",
       "      <td>smr_location_type</td>\n",
       "      <td>1.077381</td>\n",
       "      <td>0.300897</td>\n",
       "      <td>0.287942</td>\n",
       "    </tr>\n",
       "    <tr>\n",
       "      <th>4</th>\n",
       "      <td>smr_age_group</td>\n",
       "      <td>smr_age_group_location_type</td>\n",
       "      <td>-0.004253</td>\n",
       "      <td>0.996671</td>\n",
       "      <td>-0.001137</td>\n",
       "    </tr>\n",
       "    <tr>\n",
       "      <th>5</th>\n",
       "      <td>smr_location_type</td>\n",
       "      <td>smr_age_group_location_type</td>\n",
       "      <td>-1.064870</td>\n",
       "      <td>0.306314</td>\n",
       "      <td>-0.284598</td>\n",
       "    </tr>\n",
       "  </tbody>\n",
       "</table>\n",
       "</div>"
      ],
      "text/plain": [
       "                col1                         col2  t_statistic   p_value  \\\n",
       "0          smr_crude                smr_age_group    -1.050305  0.312711   \n",
       "1          smr_crude            smr_location_type     0.141560  0.889598   \n",
       "2          smr_crude  smr_age_group_location_type    -1.027280  0.323024   \n",
       "3      smr_age_group            smr_location_type     1.077381  0.300897   \n",
       "4      smr_age_group  smr_age_group_location_type    -0.004253  0.996671   \n",
       "5  smr_location_type  smr_age_group_location_type    -1.064870  0.306314   \n",
       "\n",
       "   effect_size  \n",
       "0    -0.280706  \n",
       "1     0.037834  \n",
       "2    -0.274552  \n",
       "3     0.287942  \n",
       "4    -0.001137  \n",
       "5    -0.284598  "
      ]
     },
     "metadata": {},
     "output_type": "display_data"
    }
   ],
   "source": [
    "%run domain_helper.ipynb\n",
    "ccol = ['year']\n",
    "dfy = get_confound(df, [], ccol, mmode=0)\n",
    "dft = get_confound(df, ['age_group'], ccol, mmode=0)\n",
    "dfy = pd.merge(dfy, dft, on=ccol)\n",
    "dft = get_confound(df, ['location_type'], ccol, mmode=0)\n",
    "dfy = pd.merge(dfy, dft, on=ccol)\n",
    "dft = get_confound(df, ['age_group','location_type'], ccol, mmode=0)\n",
    "dfy = pd.merge(dfy, dft, on=ccol)\n",
    "dfy.rename(columns={'smr':'smr_crude'}, inplace=True)\n",
    "display('Testing SMR across yaers')\n",
    "smr_columns = [col for col in dfy.columns if col.startswith('smr')]\n",
    "display(t_test(dfy, smr_columns))"
   ]
  },
  {
   "cell_type": "code",
   "execution_count": 24,
   "id": "55fbff22-f160-4c9c-96f0-5c99ec2f955e",
   "metadata": {
    "scrolled": true
   },
   "outputs": [
    {
     "data": {
      "text/plain": [
       "'Testing SMR across municipalities'"
      ]
     },
     "metadata": {},
     "output_type": "display_data"
    },
    {
     "data": {
      "text/html": [
       "<div>\n",
       "<style scoped>\n",
       "    .dataframe tbody tr th:only-of-type {\n",
       "        vertical-align: middle;\n",
       "    }\n",
       "\n",
       "    .dataframe tbody tr th {\n",
       "        vertical-align: top;\n",
       "    }\n",
       "\n",
       "    .dataframe thead th {\n",
       "        text-align: right;\n",
       "    }\n",
       "</style>\n",
       "<table border=\"1\" class=\"dataframe\">\n",
       "  <thead>\n",
       "    <tr style=\"text-align: right;\">\n",
       "      <th></th>\n",
       "      <th>col1</th>\n",
       "      <th>col2</th>\n",
       "      <th>t_statistic</th>\n",
       "      <th>p_value</th>\n",
       "      <th>effect_size</th>\n",
       "    </tr>\n",
       "  </thead>\n",
       "  <tbody>\n",
       "    <tr>\n",
       "      <th>0</th>\n",
       "      <td>smr_crude</td>\n",
       "      <td>smr_age_group</td>\n",
       "      <td>3.239124</td>\n",
       "      <td>1.217759e-03</td>\n",
       "      <td>0.070802</td>\n",
       "    </tr>\n",
       "    <tr>\n",
       "      <th>1</th>\n",
       "      <td>smr_crude</td>\n",
       "      <td>smr_location_type</td>\n",
       "      <td>14.194661</td>\n",
       "      <td>9.902139e-44</td>\n",
       "      <td>0.310270</td>\n",
       "    </tr>\n",
       "    <tr>\n",
       "      <th>2</th>\n",
       "      <td>smr_crude</td>\n",
       "      <td>smr_age_group_location_type</td>\n",
       "      <td>13.144531</td>\n",
       "      <td>5.603501e-38</td>\n",
       "      <td>0.287316</td>\n",
       "    </tr>\n",
       "    <tr>\n",
       "      <th>3</th>\n",
       "      <td>smr_age_group</td>\n",
       "      <td>smr_location_type</td>\n",
       "      <td>30.089563</td>\n",
       "      <td>1.368991e-165</td>\n",
       "      <td>0.657705</td>\n",
       "    </tr>\n",
       "    <tr>\n",
       "      <th>4</th>\n",
       "      <td>smr_age_group</td>\n",
       "      <td>smr_age_group_location_type</td>\n",
       "      <td>31.122131</td>\n",
       "      <td>4.433593e-175</td>\n",
       "      <td>0.680275</td>\n",
       "    </tr>\n",
       "    <tr>\n",
       "      <th>5</th>\n",
       "      <td>smr_location_type</td>\n",
       "      <td>smr_age_group_location_type</td>\n",
       "      <td>5.153172</td>\n",
       "      <td>2.801749e-07</td>\n",
       "      <td>0.112639</td>\n",
       "    </tr>\n",
       "  </tbody>\n",
       "</table>\n",
       "</div>"
      ],
      "text/plain": [
       "                col1                         col2  t_statistic        p_value  \\\n",
       "0          smr_crude                smr_age_group     3.239124   1.217759e-03   \n",
       "1          smr_crude            smr_location_type    14.194661   9.902139e-44   \n",
       "2          smr_crude  smr_age_group_location_type    13.144531   5.603501e-38   \n",
       "3      smr_age_group            smr_location_type    30.089563  1.368991e-165   \n",
       "4      smr_age_group  smr_age_group_location_type    31.122131  4.433593e-175   \n",
       "5  smr_location_type  smr_age_group_location_type     5.153172   2.801749e-07   \n",
       "\n",
       "   effect_size  \n",
       "0     0.070802  \n",
       "1     0.310270  \n",
       "2     0.287316  \n",
       "3     0.657705  \n",
       "4     0.680275  \n",
       "5     0.112639  "
      ]
     },
     "metadata": {},
     "output_type": "display_data"
    }
   ],
   "source": [
    "%run domain_helper.ipynb\n",
    "ccol = ['state_code','municipality_code']\n",
    "dfy = get_confound(df, [], ccol, mmode=0)\n",
    "dft = get_confound(df, ['age_group'], ccol, mmode=0)\n",
    "dfy = pd.merge(dfy, dft, on=ccol)\n",
    "dft = get_confound(df, ['location_type'], ccol, mmode=0)\n",
    "dfy = pd.merge(dfy, dft, on=ccol)\n",
    "# dft = get_confound(df, ['age_group','location_type','year'], ccol, mmode=0)\n",
    "# dfy = pd.merge(dfy, dft, on=ccol)\n",
    "dft = get_confound(df, ['age_group','location_type'], ccol, mmode=0)\n",
    "dfy = pd.merge(dfy, dft, on=ccol)\n",
    "# display(dfy)\n",
    "dfy.rename(columns={'smr':'smr_crude'}, inplace=True)\n",
    "smr_columns = [col for col in dfy.columns if col.startswith('smr')]\n",
    "display('Testing SMR across municipalities')\n",
    "display(t_test(dfy, smr_columns))"
   ]
  }
 ],
 "metadata": {
  "kernelspec": {
   "display_name": "Python 3 (ipykernel)",
   "language": "python",
   "name": "python3"
  },
  "language_info": {
   "codemirror_mode": {
    "name": "ipython",
    "version": 3
   },
   "file_extension": ".py",
   "mimetype": "text/x-python",
   "name": "python",
   "nbconvert_exporter": "python",
   "pygments_lexer": "ipython3",
   "version": "3.12.6"
  }
 },
 "nbformat": 4,
 "nbformat_minor": 5
}
