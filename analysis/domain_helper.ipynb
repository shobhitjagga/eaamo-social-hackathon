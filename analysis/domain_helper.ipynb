{
 "cells": [
  {
   "cell_type": "code",
   "execution_count": 2,
   "id": "fb72cdfe-64ef-4e98-a3d6-ed7dd8a0d908",
   "metadata": {},
   "outputs": [],
   "source": [
    "common_cols = ['state_code','municipality_code','year']\n",
    "from sklearn.model_selection import train_test_split, cross_val_score\n",
    "from sklearn.linear_model import LassoCV\n",
    "from sklearn.preprocessing import StandardScaler"
   ]
  },
  {
   "cell_type": "code",
   "execution_count": 3,
   "id": "4da2d199-c6e3-47c4-bf40-999d49121980",
   "metadata": {},
   "outputs": [],
   "source": [
    "def crude_mortality(df):\n",
    "    df['cmr_pop'] = (df['ndeaths_y'].sum() / df['population'].sum())*1000\n",
    "    df['cmr_mine'] = (df.groupby(common_cols)['ndeaths_y'].transform('sum') / df.groupby(common_cols)['population'].transform('sum'))*1000\n",
    "    return df"
   ]
  },
  {
   "cell_type": "code",
   "execution_count": 5,
   "id": "3d686084-c570-4ba9-8f28-b19e89e9f617",
   "metadata": {},
   "outputs": [],
   "source": [
    "def standard_mortality(df, aggcols, confcols):\n",
    "    allcols = aggcols + confcols\n",
    "    coln = ''\n",
    "    for col in allcols:\n",
    "        coln = coln + col + '_'\n",
    "    coln = coln + 'rate'\n",
    "    # allcols = aggcols + confcols\n",
    "    if not allcols:\n",
    "        allcols = ['count']\n",
    "    df2 = df.groupby(allcols).agg({\n",
    "        'ndeaths_y': 'sum', 'population': 'sum'\n",
    "    }).reset_index()\n",
    "    df2[coln] = (df2['ndeaths_y'] / df2['population'])*1000\n",
    "    mergecols = allcols + [coln]\n",
    "    df3 = pd.merge(df, df2[mergecols], on=allcols)\n",
    "    return df3"
   ]
  },
  {
   "cell_type": "code",
   "execution_count": null,
   "id": "e59ca1d5-84f9-4fd6-9742-077ade6a99e2",
   "metadata": {},
   "outputs": [],
   "source": [
    "def get_confound(df, cols, cola, keepcols=[],colname=0,mmode=0):\n",
    "    coln = ''\n",
    "    coln2 = 'smr'\n",
    "    for col in cols:\n",
    "        coln = coln + col + '_'\n",
    "        coln2 = coln2 + '_' + col\n",
    "    coln = coln + 'rate'\n",
    "    df['ed'] = df['population'] * df[coln]\n",
    "    agg_dict = { 'ndeaths_y': 'sum', 'ed': 'sum' }\n",
    "    agg_dict.update({col: 'sum' for col in keepcols if col in df.columns})\n",
    "    dfn = df.groupby(cola).agg(agg_dict).reset_index()\n",
    "    if(colname==0):\n",
    "        if mmode==0:\n",
    "            dfn[coln2] = dfn['ndeaths_y'] * 1000 / dfn['ed']\n",
    "        else:\n",
    "            dfn[coln2] = dfn['ndeaths_y'] - dfn['ed']/1000\n",
    "    else:\n",
    "        coln2 = 'smr'\n",
    "        if mmode==0:\n",
    "            dfn['smr'] = dfn['ndeaths_y'] * 1000 / dfn['ed']\n",
    "        else: \n",
    "            dfn['smr'] = dfn['ndeaths_y'] - dfn['ed']/1000\n",
    "    valid_keepcols = [col for col in keepcols if col in dfn.columns]\n",
    "    return dfn[cola+[coln2]+valid_keepcols]"
   ]
  },
  {
   "cell_type": "code",
   "execution_count": null,
   "id": "50808297-17cf-4b1a-b7ad-300d3666b052",
   "metadata": {},
   "outputs": [],
   "source": [
    "def compute_smr(df, cols, cola, cancer_cols, keepcols=True, colname=0,mmode=0):\n",
    "    coln = ''\n",
    "    coln2 = 'smr'\n",
    "    for col in cols:\n",
    "        coln = coln + col + '_'\n",
    "        coln2 = coln2 + '_' + col\n",
    "    coln = coln + 'rate'\n",
    "    df['ed'] = df['population'] * df[coln]\n",
    "    agg_dict = { 'ndeaths_y': 'sum', 'ed': 'sum', 'population': 'sum' }\n",
    "    agg_dict.update({col: 'mean' for col in cancer_cols if col in df.columns})\n",
    "    dfn = df.groupby(cola).agg(agg_dict).reset_index()\n",
    "    if(colname==0):\n",
    "        if mmode==0:\n",
    "            dfn[coln2] = dfn['ndeaths_y'] * 1000 / dfn['ed']\n",
    "        else:\n",
    "            dfn[coln2] = dfn['ndeaths_y'] - dfn['ed']/1000\n",
    "    else:\n",
    "        coln2 = 'smr'\n",
    "        if mmode==0:\n",
    "            dfn['smr'] = dfn['ndeaths_y'] * 1000 / dfn['ed']\n",
    "        else: \n",
    "            dfn['smr'] = dfn['ndeaths_y'] - dfn['ed']/1000\n",
    "    valid_keepcols = [col for col in cancer_cols if col in dfn.columns]\n",
    "    if keepcols:\n",
    "        valid_keepcols = valid_keepcols + ['ndeaths_y', 'ed','population']\n",
    "    valid_keepcols = [col for col in valid_keepcols if col in dfn.columns]\n",
    "    return dfn[cola+[coln2]+valid_keepcols]"
   ]
  },
  {
   "cell_type": "code",
   "execution_count": null,
   "id": "cc51a644-e6b3-4cbc-8c8b-55cc941670a8",
   "metadata": {},
   "outputs": [],
   "source": [
    "def t_test(dfy, smr_columns):\n",
    "    results = []\n",
    "    for i, col1 in enumerate(smr_columns):\n",
    "        for j, col2 in enumerate(smr_columns):\n",
    "            if i < j:  # Ensure each combination is unique and avoid self-comparison\n",
    "                t_statistic, p_value = stats.ttest_rel(dfy[col1], dfy[col2])\n",
    "                mean_diff = dfy[col1] - dfy[col2]\n",
    "                effect_size = mean_diff.mean() / mean_diff.std()\n",
    "                results.append({\n",
    "                    'col1': col1,'col2': col2,'t_statistic': t_statistic,'p_value': p_value,'effect_size': effect_size\n",
    "                })\n",
    "    results_df = pd.DataFrame(results)\n",
    "    return results_df"
   ]
  },
  {
   "cell_type": "code",
   "execution_count": null,
   "id": "be943640-4c1e-48dc-9b3a-cda18a7851ba",
   "metadata": {},
   "outputs": [],
   "source": [
    "from statsmodels.stats.outliers_influence import variance_inflation_factor\n",
    "def calculate_vif(X):\n",
    "    vif = pd.DataFrame()\n",
    "    vif[\"Features\"] = X.columns\n",
    "    vif[\"VIF\"] = [variance_inflation_factor(X.values, i) for i in range(X.shape[1])]\n",
    "    return vif"
   ]
  },
  {
   "cell_type": "code",
   "execution_count": null,
   "id": "5729bf86-9620-4638-a5a9-dd6c0cf09538",
   "metadata": {},
   "outputs": [],
   "source": [
    "def run_fitting(df, cols, pred):\n",
    "    X = df[cols]\n",
    "    y = df[pred]\n",
    "    X_train, X_test, y_train, y_test = train_test_split(X, y, test_size=0.2, random_state=42)\n",
    "    scaler = StandardScaler()\n",
    "    X_train_scaled = scaler.fit_transform(X_train)\n",
    "    X_test_scaled = scaler.transform(X_test)\n",
    "    lasso = LassoCV(alphas=np.logspace(-10, 10, 100), cv=10, random_state=42, max_iter=1000000)\n",
    "    lasso.fit(X_train_scaled, y_train)\n",
    "    print(\"Best alpha:\", lasso.alpha_)\n",
    "    cv_scores = cross_val_score(lasso, X_train_scaled, y_train, cv=10)\n",
    "    print(\"Cross-validated training score:\", np.mean(cv_scores))\n",
    "    test_score = lasso.score(X_test_scaled, y_test)\n",
    "    print(\"Test score:\", test_score)\n",
    "    coefficients = pd.Series(lasso.coef_, index=X.columns)\n",
    "    y_pred_lasso = lasso.predict(X_test_scaled)\n",
    "    lasso_r2 = r2_score(y_test, y_pred_lasso)\n",
    "    print(\"Lasso r2 score:\")\n",
    "    print(lasso_r2)\n",
    "    print(\"Coefficients:\")\n",
    "    print(coefficients[coefficients != 0])\n",
    "    X = sm.add_constant(X_train_scaled)\n",
    "    model = sm.OLS(y_train, X).fit()\n",
    "    print(model.summary())"
   ]
  }
 ],
 "metadata": {
  "kernelspec": {
   "display_name": "Python 3 (ipykernel)",
   "language": "python",
   "name": "python3"
  },
  "language_info": {
   "codemirror_mode": {
    "name": "ipython",
    "version": 3
   },
   "file_extension": ".py",
   "mimetype": "text/x-python",
   "name": "python",
   "nbconvert_exporter": "python",
   "pygments_lexer": "ipython3",
   "version": "3.12.6"
  }
 },
 "nbformat": 4,
 "nbformat_minor": 5
}
