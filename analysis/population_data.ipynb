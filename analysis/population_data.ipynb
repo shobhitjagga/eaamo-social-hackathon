{
 "cells": [
  {
   "cell_type": "code",
   "execution_count": 24,
   "id": "ec2e2870-2f43-43ad-a5e5-502e3e7ff5d5",
   "metadata": {},
   "outputs": [
    {
     "data": {
      "text/html": [
       "<style>:root { --jp-notebook-max-width: 100% !important; }</style>"
      ],
      "text/plain": [
       "<IPython.core.display.HTML object>"
      ]
     },
     "metadata": {},
     "output_type": "display_data"
    }
   ],
   "source": [
    "import pandas as pd\n",
    "import numpy as np\n",
    "%run helper.ipynb\n",
    "from IPython.display import display, HTML\n",
    "display(HTML(\"<style>:root { --jp-notebook-max-width: 100% !important; }</style>\"))"
   ]
  },
  {
   "cell_type": "code",
   "execution_count": 20,
   "id": "e1ef133c-5f8d-4213-a077-95645999086b",
   "metadata": {},
   "outputs": [],
   "source": [
    "df = get_smr_data2()\n",
    "df['population_discrepancy'] = df['population'] / df['municipality_population_x']\n",
    "df['death_discrepancy'] = df['ndeaths'] / df['death_number_x']\n",
    "df['count'] = 1"
   ]
  },
  {
   "cell_type": "code",
   "execution_count": 25,
   "id": "333f17be-cf33-45b3-8ea3-b0c0e686f51a",
   "metadata": {},
   "outputs": [
    {
     "data": {
      "text/plain": [
       "'Population discrepancy = Population of municipality from dataset/Mexico/bc_data/ divided by population from dataset/Mexico/bc_data_national/'"
      ]
     },
     "metadata": {},
     "output_type": "display_data"
    },
    {
     "data": {
      "text/html": [
       "<div>\n",
       "<style scoped>\n",
       "    .dataframe tbody tr th:only-of-type {\n",
       "        vertical-align: middle;\n",
       "    }\n",
       "\n",
       "    .dataframe tbody tr th {\n",
       "        vertical-align: top;\n",
       "    }\n",
       "\n",
       "    .dataframe thead th {\n",
       "        text-align: right;\n",
       "    }\n",
       "</style>\n",
       "<table border=\"1\" class=\"dataframe\">\n",
       "  <thead>\n",
       "    <tr style=\"text-align: right;\">\n",
       "      <th></th>\n",
       "      <th>Quantile_0.0</th>\n",
       "      <th>Quantile_10.0</th>\n",
       "      <th>Quantile_20.0</th>\n",
       "      <th>Quantile_30.0</th>\n",
       "      <th>Quantile_40.0</th>\n",
       "      <th>Quantile_50.0</th>\n",
       "      <th>Quantile_60.0</th>\n",
       "      <th>Quantile_70.0</th>\n",
       "      <th>Quantile_80.0</th>\n",
       "      <th>Quantile_90.0</th>\n",
       "      <th>Quantile_100.0</th>\n",
       "    </tr>\n",
       "    <tr>\n",
       "      <th>count_buckets</th>\n",
       "      <th></th>\n",
       "      <th></th>\n",
       "      <th></th>\n",
       "      <th></th>\n",
       "      <th></th>\n",
       "      <th></th>\n",
       "      <th></th>\n",
       "      <th></th>\n",
       "      <th></th>\n",
       "      <th></th>\n",
       "      <th></th>\n",
       "    </tr>\n",
       "  </thead>\n",
       "  <tbody>\n",
       "    <tr>\n",
       "      <th>1</th>\n",
       "      <td>0.000017</td>\n",
       "      <td>0.191176</td>\n",
       "      <td>0.278465</td>\n",
       "      <td>0.355515</td>\n",
       "      <td>0.435233</td>\n",
       "      <td>0.513386</td>\n",
       "      <td>0.613131</td>\n",
       "      <td>0.748148</td>\n",
       "      <td>0.91821</td>\n",
       "      <td>1.462058</td>\n",
       "      <td>13.017194</td>\n",
       "    </tr>\n",
       "  </tbody>\n",
       "</table>\n",
       "</div>"
      ],
      "text/plain": [
       "               Quantile_0.0  Quantile_10.0  Quantile_20.0  Quantile_30.0  \\\n",
       "count_buckets                                                              \n",
       "1                  0.000017       0.191176       0.278465       0.355515   \n",
       "\n",
       "               Quantile_40.0  Quantile_50.0  Quantile_60.0  Quantile_70.0  \\\n",
       "count_buckets                                                               \n",
       "1                   0.435233       0.513386       0.613131       0.748148   \n",
       "\n",
       "               Quantile_80.0  Quantile_90.0  Quantile_100.0  \n",
       "count_buckets                                                \n",
       "1                    0.91821       1.462058       13.017194  "
      ]
     },
     "metadata": {},
     "output_type": "display_data"
    },
    {
     "data": {
      "text/plain": [
       "'Deaths discrepancy = Deaths in municipality from dataset/Mexico/bc_data/ divided by population from dataset/Mexico/bc_data_national/'"
      ]
     },
     "metadata": {},
     "output_type": "display_data"
    },
    {
     "data": {
      "text/html": [
       "<div>\n",
       "<style scoped>\n",
       "    .dataframe tbody tr th:only-of-type {\n",
       "        vertical-align: middle;\n",
       "    }\n",
       "\n",
       "    .dataframe tbody tr th {\n",
       "        vertical-align: top;\n",
       "    }\n",
       "\n",
       "    .dataframe thead th {\n",
       "        text-align: right;\n",
       "    }\n",
       "</style>\n",
       "<table border=\"1\" class=\"dataframe\">\n",
       "  <thead>\n",
       "    <tr style=\"text-align: right;\">\n",
       "      <th></th>\n",
       "      <th>Quantile_0.0</th>\n",
       "      <th>Quantile_10.0</th>\n",
       "      <th>Quantile_20.0</th>\n",
       "      <th>Quantile_30.0</th>\n",
       "      <th>Quantile_40.0</th>\n",
       "      <th>Quantile_50.0</th>\n",
       "      <th>Quantile_60.0</th>\n",
       "      <th>Quantile_70.0</th>\n",
       "      <th>Quantile_80.0</th>\n",
       "      <th>Quantile_90.0</th>\n",
       "      <th>Quantile_100.0</th>\n",
       "    </tr>\n",
       "    <tr>\n",
       "      <th>count_buckets</th>\n",
       "      <th></th>\n",
       "      <th></th>\n",
       "      <th></th>\n",
       "      <th></th>\n",
       "      <th></th>\n",
       "      <th></th>\n",
       "      <th></th>\n",
       "      <th></th>\n",
       "      <th></th>\n",
       "      <th></th>\n",
       "      <th></th>\n",
       "    </tr>\n",
       "  </thead>\n",
       "  <tbody>\n",
       "    <tr>\n",
       "      <th>1</th>\n",
       "      <td>0.055556</td>\n",
       "      <td>0.955556</td>\n",
       "      <td>1.0</td>\n",
       "      <td>1.0</td>\n",
       "      <td>1.0</td>\n",
       "      <td>1.0</td>\n",
       "      <td>1.0</td>\n",
       "      <td>1.0</td>\n",
       "      <td>1.0</td>\n",
       "      <td>1.2</td>\n",
       "      <td>3.0</td>\n",
       "    </tr>\n",
       "  </tbody>\n",
       "</table>\n",
       "</div>"
      ],
      "text/plain": [
       "               Quantile_0.0  Quantile_10.0  Quantile_20.0  Quantile_30.0  \\\n",
       "count_buckets                                                              \n",
       "1                  0.055556       0.955556            1.0            1.0   \n",
       "\n",
       "               Quantile_40.0  Quantile_50.0  Quantile_60.0  Quantile_70.0  \\\n",
       "count_buckets                                                               \n",
       "1                        1.0            1.0            1.0            1.0   \n",
       "\n",
       "               Quantile_80.0  Quantile_90.0  Quantile_100.0  \n",
       "count_buckets                                                \n",
       "1                        1.0            1.2             3.0  "
      ]
     },
     "metadata": {},
     "output_type": "display_data"
    }
   ],
   "source": [
    "display('Population discrepancy = Population of municipality from dataset/Mexico/bc_data/ divided by population from dataset/Mexico/bc_data_national/')\n",
    "display(quantl(df, 'count','population_discrepancy'))\n",
    "display('Deaths discrepancy = Deaths in municipality from dataset/Mexico/bc_data/ divided by population from dataset/Mexico/bc_data_national/')\n",
    "display(quantl(df, 'count','death_discrepancy'))"
   ]
  }
 ],
 "metadata": {
  "kernelspec": {
   "display_name": "Python 3 (ipykernel)",
   "language": "python",
   "name": "python3"
  },
  "language_info": {
   "codemirror_mode": {
    "name": "ipython",
    "version": 3
   },
   "file_extension": ".py",
   "mimetype": "text/x-python",
   "name": "python",
   "nbconvert_exporter": "python",
   "pygments_lexer": "ipython3",
   "version": "3.12.6"
  }
 },
 "nbformat": 4,
 "nbformat_minor": 5
}
